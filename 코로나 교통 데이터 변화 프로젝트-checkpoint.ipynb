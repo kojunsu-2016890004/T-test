{
 "cells": [
  {
   "cell_type": "code",
   "execution_count": 1,
   "metadata": {},
   "outputs": [
    {
     "data": {
      "text/html": [
       "<div>\n",
       "<style scoped>\n",
       "    .dataframe tbody tr th:only-of-type {\n",
       "        vertical-align: middle;\n",
       "    }\n",
       "\n",
       "    .dataframe tbody tr th {\n",
       "        vertical-align: top;\n",
       "    }\n",
       "\n",
       "    .dataframe thead th {\n",
       "        text-align: right;\n",
       "    }\n",
       "</style>\n",
       "<table border=\"1\" class=\"dataframe\">\n",
       "  <thead>\n",
       "    <tr style=\"text-align: right;\">\n",
       "      <th></th>\n",
       "      <th>날짜</th>\n",
       "      <th>역이름</th>\n",
       "      <th>EMD_NM</th>\n",
       "      <th>ALIGHT_PASGR_NUM</th>\n",
       "      <th>RIDE_PASGR_NUM</th>\n",
       "      <th>총승하차수</th>\n",
       "      <th>날짜.1</th>\n",
       "      <th>역이름.1</th>\n",
       "      <th>EMD_NM.1</th>\n",
       "      <th>ALIGHT_PASGR_NUM.1</th>\n",
       "      <th>RIDE_PASGR_NUM.1</th>\n",
       "      <th>총승하차수.1</th>\n",
       "    </tr>\n",
       "  </thead>\n",
       "  <tbody>\n",
       "    <tr>\n",
       "      <th>0</th>\n",
       "      <td>201901</td>\n",
       "      <td>4.19민주묘지</td>\n",
       "      <td>우이동</td>\n",
       "      <td>74980</td>\n",
       "      <td>78436</td>\n",
       "      <td>153416</td>\n",
       "      <td>202001</td>\n",
       "      <td>4.19민주묘지</td>\n",
       "      <td>우이동</td>\n",
       "      <td>74144</td>\n",
       "      <td>79269</td>\n",
       "      <td>153413</td>\n",
       "    </tr>\n",
       "    <tr>\n",
       "      <th>1</th>\n",
       "      <td>201901</td>\n",
       "      <td>가락시장</td>\n",
       "      <td>가락동</td>\n",
       "      <td>598005</td>\n",
       "      <td>564949</td>\n",
       "      <td>1162954</td>\n",
       "      <td>202001</td>\n",
       "      <td>가락시장</td>\n",
       "      <td>가락동</td>\n",
       "      <td>556203</td>\n",
       "      <td>528415</td>\n",
       "      <td>1084618</td>\n",
       "    </tr>\n",
       "    <tr>\n",
       "      <th>2</th>\n",
       "      <td>201901</td>\n",
       "      <td>가산디지털단지</td>\n",
       "      <td>가산동</td>\n",
       "      <td>1855882</td>\n",
       "      <td>1784137</td>\n",
       "      <td>3640019</td>\n",
       "      <td>202001</td>\n",
       "      <td>가산디지털단지</td>\n",
       "      <td>가산동</td>\n",
       "      <td>1710803</td>\n",
       "      <td>1633443</td>\n",
       "      <td>3344246</td>\n",
       "    </tr>\n",
       "    <tr>\n",
       "      <th>3</th>\n",
       "      <td>201901</td>\n",
       "      <td>가양</td>\n",
       "      <td>등촌동</td>\n",
       "      <td>609020</td>\n",
       "      <td>631153</td>\n",
       "      <td>1240173</td>\n",
       "      <td>202001</td>\n",
       "      <td>가양</td>\n",
       "      <td>등촌동</td>\n",
       "      <td>579149</td>\n",
       "      <td>596800</td>\n",
       "      <td>1175949</td>\n",
       "    </tr>\n",
       "    <tr>\n",
       "      <th>4</th>\n",
       "      <td>201901</td>\n",
       "      <td>가오리</td>\n",
       "      <td>수유동</td>\n",
       "      <td>120288</td>\n",
       "      <td>122971</td>\n",
       "      <td>243259</td>\n",
       "      <td>202001</td>\n",
       "      <td>가오리</td>\n",
       "      <td>수유동</td>\n",
       "      <td>113876</td>\n",
       "      <td>117435</td>\n",
       "      <td>231311</td>\n",
       "    </tr>\n",
       "    <tr>\n",
       "      <th>...</th>\n",
       "      <td>...</td>\n",
       "      <td>...</td>\n",
       "      <td>...</td>\n",
       "      <td>...</td>\n",
       "      <td>...</td>\n",
       "      <td>...</td>\n",
       "      <td>...</td>\n",
       "      <td>...</td>\n",
       "      <td>...</td>\n",
       "      <td>...</td>\n",
       "      <td>...</td>\n",
       "      <td>...</td>\n",
       "    </tr>\n",
       "    <tr>\n",
       "      <th>3499</th>\n",
       "      <td>201912</td>\n",
       "      <td>화랑대(서울여대입구)</td>\n",
       "      <td>공릉동</td>\n",
       "      <td>305790</td>\n",
       "      <td>406362</td>\n",
       "      <td>712152</td>\n",
       "      <td>202012</td>\n",
       "      <td>화랑대(서울여대입구)</td>\n",
       "      <td>공릉동</td>\n",
       "      <td>190245</td>\n",
       "      <td>238002</td>\n",
       "      <td>428247</td>\n",
       "    </tr>\n",
       "    <tr>\n",
       "      <th>3500</th>\n",
       "      <td>201912</td>\n",
       "      <td>회기</td>\n",
       "      <td>휘경동</td>\n",
       "      <td>878221</td>\n",
       "      <td>915524</td>\n",
       "      <td>1793745</td>\n",
       "      <td>202012</td>\n",
       "      <td>회기</td>\n",
       "      <td>휘경동</td>\n",
       "      <td>490862</td>\n",
       "      <td>510623</td>\n",
       "      <td>1001485</td>\n",
       "    </tr>\n",
       "    <tr>\n",
       "      <th>3501</th>\n",
       "      <td>201912</td>\n",
       "      <td>회현(남대문시장)</td>\n",
       "      <td>남창동</td>\n",
       "      <td>1003372</td>\n",
       "      <td>944745</td>\n",
       "      <td>1948117</td>\n",
       "      <td>202012</td>\n",
       "      <td>회현(남대문시장)</td>\n",
       "      <td>남창동</td>\n",
       "      <td>504895</td>\n",
       "      <td>486208</td>\n",
       "      <td>991103</td>\n",
       "    </tr>\n",
       "    <tr>\n",
       "      <th>3502</th>\n",
       "      <td>201912</td>\n",
       "      <td>효창공원앞</td>\n",
       "      <td>효창동</td>\n",
       "      <td>308987</td>\n",
       "      <td>317606</td>\n",
       "      <td>626593</td>\n",
       "      <td>202012</td>\n",
       "      <td>효창공원앞</td>\n",
       "      <td>효창동</td>\n",
       "      <td>207788</td>\n",
       "      <td>213000</td>\n",
       "      <td>420788</td>\n",
       "    </tr>\n",
       "    <tr>\n",
       "      <th>3503</th>\n",
       "      <td>201912</td>\n",
       "      <td>흑석(중앙대입구)</td>\n",
       "      <td>흑석동</td>\n",
       "      <td>321337</td>\n",
       "      <td>311328</td>\n",
       "      <td>632665</td>\n",
       "      <td>202012</td>\n",
       "      <td>흑석(중앙대입구)</td>\n",
       "      <td>흑석동</td>\n",
       "      <td>171746</td>\n",
       "      <td>166412</td>\n",
       "      <td>338158</td>\n",
       "    </tr>\n",
       "  </tbody>\n",
       "</table>\n",
       "<p>3504 rows × 12 columns</p>\n",
       "</div>"
      ],
      "text/plain": [
       "          날짜          역이름 EMD_NM  ALIGHT_PASGR_NUM  RIDE_PASGR_NUM    총승하차수  \\\n",
       "0     201901     4.19민주묘지    우이동             74980           78436   153416   \n",
       "1     201901         가락시장    가락동            598005          564949  1162954   \n",
       "2     201901      가산디지털단지    가산동           1855882         1784137  3640019   \n",
       "3     201901           가양    등촌동            609020          631153  1240173   \n",
       "4     201901          가오리    수유동            120288          122971   243259   \n",
       "...      ...          ...    ...               ...             ...      ...   \n",
       "3499  201912  화랑대(서울여대입구)    공릉동            305790          406362   712152   \n",
       "3500  201912           회기    휘경동            878221          915524  1793745   \n",
       "3501  201912    회현(남대문시장)    남창동           1003372          944745  1948117   \n",
       "3502  201912        효창공원앞    효창동            308987          317606   626593   \n",
       "3503  201912    흑석(중앙대입구)    흑석동            321337          311328   632665   \n",
       "\n",
       "        날짜.1        역이름.1 EMD_NM.1  ALIGHT_PASGR_NUM.1  RIDE_PASGR_NUM.1  \\\n",
       "0     202001     4.19민주묘지      우이동               74144             79269   \n",
       "1     202001         가락시장      가락동              556203            528415   \n",
       "2     202001      가산디지털단지      가산동             1710803           1633443   \n",
       "3     202001           가양      등촌동              579149            596800   \n",
       "4     202001          가오리      수유동              113876            117435   \n",
       "...      ...          ...      ...                 ...               ...   \n",
       "3499  202012  화랑대(서울여대입구)      공릉동              190245            238002   \n",
       "3500  202012           회기      휘경동              490862            510623   \n",
       "3501  202012    회현(남대문시장)      남창동              504895            486208   \n",
       "3502  202012        효창공원앞      효창동              207788            213000   \n",
       "3503  202012    흑석(중앙대입구)      흑석동              171746            166412   \n",
       "\n",
       "      총승하차수.1  \n",
       "0      153413  \n",
       "1     1084618  \n",
       "2     3344246  \n",
       "3     1175949  \n",
       "4      231311  \n",
       "...       ...  \n",
       "3499   428247  \n",
       "3500  1001485  \n",
       "3501   991103  \n",
       "3502   420788  \n",
       "3503   338158  \n",
       "\n",
       "[3504 rows x 12 columns]"
      ]
     },
     "execution_count": 1,
     "metadata": {},
     "output_type": "execute_result"
    }
   ],
   "source": [
    "import pandas as pd\n",
    "csv_month = pd.read_csv(\"C:\\\\Users\\\\고준수\\\\Desktop\\\\4-2 수업\\\\다변량통계학\\\\data (1)\\\\month.csv\",encoding='CP949')\n",
    "csv_month"
   ]
  },
  {
   "cell_type": "code",
   "execution_count": 12,
   "metadata": {},
   "outputs": [
    {
     "data": {
      "text/html": [
       "<div>\n",
       "<style scoped>\n",
       "    .dataframe tbody tr th:only-of-type {\n",
       "        vertical-align: middle;\n",
       "    }\n",
       "\n",
       "    .dataframe tbody tr th {\n",
       "        vertical-align: top;\n",
       "    }\n",
       "\n",
       "    .dataframe thead th {\n",
       "        text-align: right;\n",
       "    }\n",
       "</style>\n",
       "<table border=\"1\" class=\"dataframe\">\n",
       "  <thead>\n",
       "    <tr style=\"text-align: right;\">\n",
       "      <th></th>\n",
       "      <th>날짜</th>\n",
       "      <th>총승하차수</th>\n",
       "    </tr>\n",
       "  </thead>\n",
       "  <tbody>\n",
       "    <tr>\n",
       "      <th>0</th>\n",
       "      <td>201901</td>\n",
       "      <td>153416</td>\n",
       "    </tr>\n",
       "    <tr>\n",
       "      <th>1</th>\n",
       "      <td>201901</td>\n",
       "      <td>1162954</td>\n",
       "    </tr>\n",
       "    <tr>\n",
       "      <th>2</th>\n",
       "      <td>201901</td>\n",
       "      <td>3640019</td>\n",
       "    </tr>\n",
       "    <tr>\n",
       "      <th>3</th>\n",
       "      <td>201901</td>\n",
       "      <td>1240173</td>\n",
       "    </tr>\n",
       "    <tr>\n",
       "      <th>4</th>\n",
       "      <td>201901</td>\n",
       "      <td>243259</td>\n",
       "    </tr>\n",
       "    <tr>\n",
       "      <th>...</th>\n",
       "      <td>...</td>\n",
       "      <td>...</td>\n",
       "    </tr>\n",
       "    <tr>\n",
       "      <th>3499</th>\n",
       "      <td>201912</td>\n",
       "      <td>712152</td>\n",
       "    </tr>\n",
       "    <tr>\n",
       "      <th>3500</th>\n",
       "      <td>201912</td>\n",
       "      <td>1793745</td>\n",
       "    </tr>\n",
       "    <tr>\n",
       "      <th>3501</th>\n",
       "      <td>201912</td>\n",
       "      <td>1948117</td>\n",
       "    </tr>\n",
       "    <tr>\n",
       "      <th>3502</th>\n",
       "      <td>201912</td>\n",
       "      <td>626593</td>\n",
       "    </tr>\n",
       "    <tr>\n",
       "      <th>3503</th>\n",
       "      <td>201912</td>\n",
       "      <td>632665</td>\n",
       "    </tr>\n",
       "  </tbody>\n",
       "</table>\n",
       "<p>3504 rows × 2 columns</p>\n",
       "</div>"
      ],
      "text/plain": [
       "          날짜    총승하차수\n",
       "0     201901   153416\n",
       "1     201901  1162954\n",
       "2     201901  3640019\n",
       "3     201901  1240173\n",
       "4     201901   243259\n",
       "...      ...      ...\n",
       "3499  201912   712152\n",
       "3500  201912  1793745\n",
       "3501  201912  1948117\n",
       "3502  201912   626593\n",
       "3503  201912   632665\n",
       "\n",
       "[3504 rows x 2 columns]"
      ]
     },
     "execution_count": 12,
     "metadata": {},
     "output_type": "execute_result"
    }
   ],
   "source": [
    "csv_month_2019 = csv_month[['날짜', '총승하차수']]\n",
    "csv_month_2020 = csv_month[['날짜.1', '총승하차수.1']]\n",
    "csv_month_2019"
   ]
  },
  {
   "cell_type": "code",
   "execution_count": 13,
   "metadata": {},
   "outputs": [
    {
     "data": {
      "text/html": [
       "<div>\n",
       "<style scoped>\n",
       "    .dataframe tbody tr th:only-of-type {\n",
       "        vertical-align: middle;\n",
       "    }\n",
       "\n",
       "    .dataframe tbody tr th {\n",
       "        vertical-align: top;\n",
       "    }\n",
       "\n",
       "    .dataframe thead th {\n",
       "        text-align: right;\n",
       "    }\n",
       "</style>\n",
       "<table border=\"1\" class=\"dataframe\">\n",
       "  <thead>\n",
       "    <tr style=\"text-align: right;\">\n",
       "      <th></th>\n",
       "      <th>날짜.1</th>\n",
       "      <th>총승하차수.1</th>\n",
       "    </tr>\n",
       "  </thead>\n",
       "  <tbody>\n",
       "    <tr>\n",
       "      <th>0</th>\n",
       "      <td>202001</td>\n",
       "      <td>153413</td>\n",
       "    </tr>\n",
       "    <tr>\n",
       "      <th>1</th>\n",
       "      <td>202001</td>\n",
       "      <td>1084618</td>\n",
       "    </tr>\n",
       "    <tr>\n",
       "      <th>2</th>\n",
       "      <td>202001</td>\n",
       "      <td>3344246</td>\n",
       "    </tr>\n",
       "    <tr>\n",
       "      <th>3</th>\n",
       "      <td>202001</td>\n",
       "      <td>1175949</td>\n",
       "    </tr>\n",
       "    <tr>\n",
       "      <th>4</th>\n",
       "      <td>202001</td>\n",
       "      <td>231311</td>\n",
       "    </tr>\n",
       "    <tr>\n",
       "      <th>...</th>\n",
       "      <td>...</td>\n",
       "      <td>...</td>\n",
       "    </tr>\n",
       "    <tr>\n",
       "      <th>3499</th>\n",
       "      <td>202012</td>\n",
       "      <td>428247</td>\n",
       "    </tr>\n",
       "    <tr>\n",
       "      <th>3500</th>\n",
       "      <td>202012</td>\n",
       "      <td>1001485</td>\n",
       "    </tr>\n",
       "    <tr>\n",
       "      <th>3501</th>\n",
       "      <td>202012</td>\n",
       "      <td>991103</td>\n",
       "    </tr>\n",
       "    <tr>\n",
       "      <th>3502</th>\n",
       "      <td>202012</td>\n",
       "      <td>420788</td>\n",
       "    </tr>\n",
       "    <tr>\n",
       "      <th>3503</th>\n",
       "      <td>202012</td>\n",
       "      <td>338158</td>\n",
       "    </tr>\n",
       "  </tbody>\n",
       "</table>\n",
       "<p>3504 rows × 2 columns</p>\n",
       "</div>"
      ],
      "text/plain": [
       "        날짜.1  총승하차수.1\n",
       "0     202001   153413\n",
       "1     202001  1084618\n",
       "2     202001  3344246\n",
       "3     202001  1175949\n",
       "4     202001   231311\n",
       "...      ...      ...\n",
       "3499  202012   428247\n",
       "3500  202012  1001485\n",
       "3501  202012   991103\n",
       "3502  202012   420788\n",
       "3503  202012   338158\n",
       "\n",
       "[3504 rows x 2 columns]"
      ]
     },
     "execution_count": 13,
     "metadata": {},
     "output_type": "execute_result"
    }
   ],
   "source": [
    "csv_month_2020"
   ]
  },
  {
   "cell_type": "code",
   "execution_count": 92,
   "metadata": {},
   "outputs": [
    {
     "name": "stderr",
     "output_type": "stream",
     "text": [
      "C:\\Users\\Public\\anaconda3\\lib\\site-packages\\matplotlib\\backends\\backend_agg.py:238: RuntimeWarning: Glyph 52509 missing from current font.\n",
      "  font.set_text(s, 0.0, flags=flags)\n",
      "C:\\Users\\Public\\anaconda3\\lib\\site-packages\\matplotlib\\backends\\backend_agg.py:238: RuntimeWarning: Glyph 49849 missing from current font.\n",
      "  font.set_text(s, 0.0, flags=flags)\n",
      "C:\\Users\\Public\\anaconda3\\lib\\site-packages\\matplotlib\\backends\\backend_agg.py:238: RuntimeWarning: Glyph 54616 missing from current font.\n",
      "  font.set_text(s, 0.0, flags=flags)\n",
      "C:\\Users\\Public\\anaconda3\\lib\\site-packages\\matplotlib\\backends\\backend_agg.py:238: RuntimeWarning: Glyph 52264 missing from current font.\n",
      "  font.set_text(s, 0.0, flags=flags)\n",
      "C:\\Users\\Public\\anaconda3\\lib\\site-packages\\matplotlib\\backends\\backend_agg.py:238: RuntimeWarning: Glyph 49688 missing from current font.\n",
      "  font.set_text(s, 0.0, flags=flags)\n",
      "C:\\Users\\Public\\anaconda3\\lib\\site-packages\\matplotlib\\backends\\backend_agg.py:201: RuntimeWarning: Glyph 52509 missing from current font.\n",
      "  font.set_text(s, 0, flags=flags)\n",
      "C:\\Users\\Public\\anaconda3\\lib\\site-packages\\matplotlib\\backends\\backend_agg.py:201: RuntimeWarning: Glyph 49849 missing from current font.\n",
      "  font.set_text(s, 0, flags=flags)\n",
      "C:\\Users\\Public\\anaconda3\\lib\\site-packages\\matplotlib\\backends\\backend_agg.py:201: RuntimeWarning: Glyph 54616 missing from current font.\n",
      "  font.set_text(s, 0, flags=flags)\n",
      "C:\\Users\\Public\\anaconda3\\lib\\site-packages\\matplotlib\\backends\\backend_agg.py:201: RuntimeWarning: Glyph 52264 missing from current font.\n",
      "  font.set_text(s, 0, flags=flags)\n",
      "C:\\Users\\Public\\anaconda3\\lib\\site-packages\\matplotlib\\backends\\backend_agg.py:201: RuntimeWarning: Glyph 49688 missing from current font.\n",
      "  font.set_text(s, 0, flags=flags)\n"
     ]
    },
    {
     "data": {
      "image/png": "[encoded data removed]",
      "text/plain": [
       "<Figure size 432x288 with 1 Axes>"
      ]
     },
     "metadata": {
      "needs_background": "light"
     },
     "output_type": "display_data"
    }
   ],
   "source": [
    "# 두 데이터 비교\n",
    "import matplotlib.pyplot as plt\n",
    "%matplotlib inline\n",
    "\n",
    "plt.grid()\n",
    "plt.boxplot([csv_month_2019['총승하차수'], csv_month_2020['총승하차수.1']])\n",
    "plt.xlabel('when')\n",
    "plt.ylabel('총승하차수')\n",
    "plt.title('Box Plot')\n",
    "plt.grid()\n",
    "plt.show()"
   ]
  },
  {
   "cell_type": "code",
   "execution_count": null,
   "metadata": {},
   "outputs": [],
   "source": [
    "#데이터 정규성 확인"
   ]
  },
  {
   "cell_type": "code",
   "execution_count": 65,
   "metadata": {},
   "outputs": [],
   "source": [
    "import matplotlib.pyplot as plt"
   ]
  },
  {
   "cell_type": "code",
   "execution_count": 67,
   "metadata": {},
   "outputs": [
    {
     "name": "stderr",
     "output_type": "stream",
     "text": [
      "C:\\Users\\Public\\anaconda3\\lib\\site-packages\\seaborn\\distributions.py:2551: FutureWarning: `distplot` is a deprecated function and will be removed in a future version. Please adapt your code to use either `displot` (a figure-level function with similar flexibility) or `histplot` (an axes-level function for histograms).\n",
      "  warnings.warn(msg, FutureWarning)\n"
     ]
    },
    {
     "data": {
      "text/plain": [
       "<AxesSubplot:xlabel='총승하차수', ylabel='Density'>"
      ]
     },
     "execution_count": 67,
     "metadata": {},
     "output_type": "execute_result"
    },
    {
     "name": "stderr",
     "output_type": "stream",
     "text": [
      "C:\\Users\\Public\\anaconda3\\lib\\site-packages\\matplotlib\\backends\\backend_agg.py:238: RuntimeWarning: Glyph 52509 missing from current font.\n",
      "  font.set_text(s, 0.0, flags=flags)\n",
      "C:\\Users\\Public\\anaconda3\\lib\\site-packages\\matplotlib\\backends\\backend_agg.py:238: RuntimeWarning: Glyph 49849 missing from current font.\n",
      "  font.set_text(s, 0.0, flags=flags)\n",
      "C:\\Users\\Public\\anaconda3\\lib\\site-packages\\matplotlib\\backends\\backend_agg.py:238: RuntimeWarning: Glyph 54616 missing from current font.\n",
      "  font.set_text(s, 0.0, flags=flags)\n",
      "C:\\Users\\Public\\anaconda3\\lib\\site-packages\\matplotlib\\backends\\backend_agg.py:238: RuntimeWarning: Glyph 52264 missing from current font.\n",
      "  font.set_text(s, 0.0, flags=flags)\n",
      "C:\\Users\\Public\\anaconda3\\lib\\site-packages\\matplotlib\\backends\\backend_agg.py:238: RuntimeWarning: Glyph 49688 missing from current font.\n",
      "  font.set_text(s, 0.0, flags=flags)\n",
      "C:\\Users\\Public\\anaconda3\\lib\\site-packages\\matplotlib\\backends\\backend_agg.py:201: RuntimeWarning: Glyph 52509 missing from current font.\n",
      "  font.set_text(s, 0, flags=flags)\n",
      "C:\\Users\\Public\\anaconda3\\lib\\site-packages\\matplotlib\\backends\\backend_agg.py:201: RuntimeWarning: Glyph 49849 missing from current font.\n",
      "  font.set_text(s, 0, flags=flags)\n",
      "C:\\Users\\Public\\anaconda3\\lib\\site-packages\\matplotlib\\backends\\backend_agg.py:201: RuntimeWarning: Glyph 54616 missing from current font.\n",
      "  font.set_text(s, 0, flags=flags)\n",
      "C:\\Users\\Public\\anaconda3\\lib\\site-packages\\matplotlib\\backends\\backend_agg.py:201: RuntimeWarning: Glyph 52264 missing from current font.\n",
      "  font.set_text(s, 0, flags=flags)\n",
      "C:\\Users\\Public\\anaconda3\\lib\\site-packages\\matplotlib\\backends\\backend_agg.py:201: RuntimeWarning: Glyph 49688 missing from current font.\n",
      "  font.set_text(s, 0, flags=flags)\n"
     ]
    },
    {
     "data": {
      "image/png": "[encoded data removed]",
      "text/plain": [
       "<Figure size 432x288 with 1 Axes>"
      ]
     },
     "metadata": {
      "needs_background": "light"
     },
     "output_type": "display_data"
    }
   ],
   "source": [
    "#2019년도 총승하차수 데이터 정규성 검정 by histogram\n",
    "import seaborn as sns\n",
    "sns.distplot(csv_month_2019['총승하차수'])"
   ]
  },
  {
   "cell_type": "code",
   "execution_count": 73,
   "metadata": {},
   "outputs": [
    {
     "name": "stderr",
     "output_type": "stream",
     "text": [
      "C:\\Users\\Public\\anaconda3\\lib\\site-packages\\seaborn\\distributions.py:2551: FutureWarning: `distplot` is a deprecated function and will be removed in a future version. Please adapt your code to use either `displot` (a figure-level function with similar flexibility) or `histplot` (an axes-level function for histograms).\n",
      "  warnings.warn(msg, FutureWarning)\n"
     ]
    },
    {
     "data": {
      "text/plain": [
       "<AxesSubplot:xlabel='총승하차수.1', ylabel='Density'>"
      ]
     },
     "execution_count": 73,
     "metadata": {},
     "output_type": "execute_result"
    },
    {
     "name": "stderr",
     "output_type": "stream",
     "text": [
      "C:\\Users\\Public\\anaconda3\\lib\\site-packages\\matplotlib\\backends\\backend_agg.py:238: RuntimeWarning: Glyph 52509 missing from current font.\n",
      "  font.set_text(s, 0.0, flags=flags)\n",
      "C:\\Users\\Public\\anaconda3\\lib\\site-packages\\matplotlib\\backends\\backend_agg.py:238: RuntimeWarning: Glyph 49849 missing from current font.\n",
      "  font.set_text(s, 0.0, flags=flags)\n",
      "C:\\Users\\Public\\anaconda3\\lib\\site-packages\\matplotlib\\backends\\backend_agg.py:238: RuntimeWarning: Glyph 54616 missing from current font.\n",
      "  font.set_text(s, 0.0, flags=flags)\n",
      "C:\\Users\\Public\\anaconda3\\lib\\site-packages\\matplotlib\\backends\\backend_agg.py:238: RuntimeWarning: Glyph 52264 missing from current font.\n",
      "  font.set_text(s, 0.0, flags=flags)\n",
      "C:\\Users\\Public\\anaconda3\\lib\\site-packages\\matplotlib\\backends\\backend_agg.py:238: RuntimeWarning: Glyph 49688 missing from current font.\n",
      "  font.set_text(s, 0.0, flags=flags)\n",
      "C:\\Users\\Public\\anaconda3\\lib\\site-packages\\matplotlib\\backends\\backend_agg.py:201: RuntimeWarning: Glyph 52509 missing from current font.\n",
      "  font.set_text(s, 0, flags=flags)\n",
      "C:\\Users\\Public\\anaconda3\\lib\\site-packages\\matplotlib\\backends\\backend_agg.py:201: RuntimeWarning: Glyph 49849 missing from current font.\n",
      "  font.set_text(s, 0, flags=flags)\n",
      "C:\\Users\\Public\\anaconda3\\lib\\site-packages\\matplotlib\\backends\\backend_agg.py:201: RuntimeWarning: Glyph 54616 missing from current font.\n",
      "  font.set_text(s, 0, flags=flags)\n",
      "C:\\Users\\Public\\anaconda3\\lib\\site-packages\\matplotlib\\backends\\backend_agg.py:201: RuntimeWarning: Glyph 52264 missing from current font.\n",
      "  font.set_text(s, 0, flags=flags)\n",
      "C:\\Users\\Public\\anaconda3\\lib\\site-packages\\matplotlib\\backends\\backend_agg.py:201: RuntimeWarning: Glyph 49688 missing from current font.\n",
      "  font.set_text(s, 0, flags=flags)\n"
     ]
    },
    {
     "data": {
      "image/png": "[encoded data removed]",
      "text/plain": [
       "<Figure size 432x288 with 1 Axes>"
      ]
     },
     "metadata": {
      "needs_background": "light"
     },
     "output_type": "display_data"
    }
   ],
   "source": [
    "#2020년도 총승하차수 데이터 정규성 검정 by histogram\n",
    "sns.distplot(csv_month_2020['총승하차수.1'])"
   ]
  },
  {
   "cell_type": "code",
   "execution_count": 74,
   "metadata": {},
   "outputs": [
    {
     "data": {
      "text/plain": [
       "((array([-3.54300659, -3.30192687, -3.16875235, ...,  3.16875235,\n",
       "          3.30192687,  3.54300659]),\n",
       "  array([  37710,   40295,   42529, ..., 6718007, 6760022, 6792438],\n",
       "        dtype=int64)),\n",
       " (970618.8893257797, 1174650.0864726026, 0.8849879940959834))"
      ]
     },
     "execution_count": 74,
     "metadata": {},
     "output_type": "execute_result"
    },
    {
     "data": {
      "image/png": "[encoded data removed]",
      "text/plain": [
       "<Figure size 432x288 with 1 Axes>"
      ]
     },
     "metadata": {
      "needs_background": "light"
     },
     "output_type": "display_data"
    }
   ],
   "source": [
    "#2019년도 총승하차수 데이터 정규성 검정 by Q-Q plot\n",
    "import scipy.stats as stats\n",
    "stats.probplot(csv_month_2019['총승하차수'], plot=plt)"
   ]
  },
  {
   "cell_type": "code",
   "execution_count": 75,
   "metadata": {},
   "outputs": [
    {
     "data": {
      "text/plain": [
       "((array([-3.54300659, -3.30192687, -3.16875235, ...,  3.16875235,\n",
       "          3.30192687,  3.54300659]),\n",
       "  array([  32891,   36725,   39368, ..., 5638298, 5840291, 5977649],\n",
       "        dtype=int64)),\n",
       " (684695.7699098059, 851589.7597031962, 0.8950588251950933))"
      ]
     },
     "execution_count": 75,
     "metadata": {},
     "output_type": "execute_result"
    },
    {
     "data": {
      "image/png": "[encoded data removed]",
      "text/plain": [
       "<Figure size 432x288 with 1 Axes>"
      ]
     },
     "metadata": {
      "needs_background": "light"
     },
     "output_type": "display_data"
    }
   ],
   "source": [
    "#2019년도 총승하차수 데이터 정규성 검정 by Q-Q plot\n",
    "import scipy.stats as stats\n",
    "stats.probplot(csv_month_2020['총승하차수.1'], plot=plt)"
   ]
  },
  {
   "cell_type": "code",
   "execution_count": 13,
   "metadata": {},
   "outputs": [],
   "source": [
    "import numpy as np\n",
    "import matplotlib.pyplot as plt"
   ]
  },
  {
   "cell_type": "code",
   "execution_count": 11,
   "metadata": {},
   "outputs": [
    {
     "name": "stderr",
     "output_type": "stream",
     "text": [
      "<ipython-input-11-10d539148a91>:3: SettingWithCopyWarning: \n",
      "A value is trying to be set on a copy of a slice from a DataFrame.\n",
      "Try using .loc[row_indexer,col_indexer] = value instead\n",
      "\n",
      "See the caveats in the documentation: https://pandas.pydata.org/pandas-docs/stable/user_guide/indexing.html#returning-a-view-versus-a-copy\n",
      "  csv_month_2019[\"Log_col\"] = np.log1p(csv_month_2019['총승하차수'])\n"
     ]
    },
    {
     "data": {
      "text/html": [
       "<div>\n",
       "<style scoped>\n",
       "    .dataframe tbody tr th:only-of-type {\n",
       "        vertical-align: middle;\n",
       "    }\n",
       "\n",
       "    .dataframe tbody tr th {\n",
       "        vertical-align: top;\n",
       "    }\n",
       "\n",
       "    .dataframe thead th {\n",
       "        text-align: right;\n",
       "    }\n",
       "</style>\n",
       "<table border=\"1\" class=\"dataframe\">\n",
       "  <thead>\n",
       "    <tr style=\"text-align: right;\">\n",
       "      <th></th>\n",
       "      <th>날짜</th>\n",
       "      <th>총승하차수</th>\n",
       "      <th>Log_col</th>\n",
       "    </tr>\n",
       "  </thead>\n",
       "  <tbody>\n",
       "    <tr>\n",
       "      <th>0</th>\n",
       "      <td>201901</td>\n",
       "      <td>153416</td>\n",
       "      <td>11.940915</td>\n",
       "    </tr>\n",
       "    <tr>\n",
       "      <th>1</th>\n",
       "      <td>201901</td>\n",
       "      <td>1162954</td>\n",
       "      <td>13.966475</td>\n",
       "    </tr>\n",
       "    <tr>\n",
       "      <th>2</th>\n",
       "      <td>201901</td>\n",
       "      <td>3640019</td>\n",
       "      <td>15.107500</td>\n",
       "    </tr>\n",
       "    <tr>\n",
       "      <th>3</th>\n",
       "      <td>201901</td>\n",
       "      <td>1240173</td>\n",
       "      <td>14.030762</td>\n",
       "    </tr>\n",
       "    <tr>\n",
       "      <th>4</th>\n",
       "      <td>201901</td>\n",
       "      <td>243259</td>\n",
       "      <td>12.401886</td>\n",
       "    </tr>\n",
       "    <tr>\n",
       "      <th>...</th>\n",
       "      <td>...</td>\n",
       "      <td>...</td>\n",
       "      <td>...</td>\n",
       "    </tr>\n",
       "    <tr>\n",
       "      <th>3499</th>\n",
       "      <td>201912</td>\n",
       "      <td>712152</td>\n",
       "      <td>13.476048</td>\n",
       "    </tr>\n",
       "    <tr>\n",
       "      <th>3500</th>\n",
       "      <td>201912</td>\n",
       "      <td>1793745</td>\n",
       "      <td>14.399817</td>\n",
       "    </tr>\n",
       "    <tr>\n",
       "      <th>3501</th>\n",
       "      <td>201912</td>\n",
       "      <td>1948117</td>\n",
       "      <td>14.482374</td>\n",
       "    </tr>\n",
       "    <tr>\n",
       "      <th>3502</th>\n",
       "      <td>201912</td>\n",
       "      <td>626593</td>\n",
       "      <td>13.348054</td>\n",
       "    </tr>\n",
       "    <tr>\n",
       "      <th>3503</th>\n",
       "      <td>201912</td>\n",
       "      <td>632665</td>\n",
       "      <td>13.357698</td>\n",
       "    </tr>\n",
       "  </tbody>\n",
       "</table>\n",
       "<p>3504 rows × 3 columns</p>\n",
       "</div>"
      ],
      "text/plain": [
       "          날짜    총승하차수    Log_col\n",
       "0     201901   153416  11.940915\n",
       "1     201901  1162954  13.966475\n",
       "2     201901  3640019  15.107500\n",
       "3     201901  1240173  14.030762\n",
       "4     201901   243259  12.401886\n",
       "...      ...      ...        ...\n",
       "3499  201912   712152  13.476048\n",
       "3500  201912  1793745  14.399817\n",
       "3501  201912  1948117  14.482374\n",
       "3502  201912   626593  13.348054\n",
       "3503  201912   632665  13.357698\n",
       "\n",
       "[3504 rows x 3 columns]"
      ]
     },
     "execution_count": 11,
     "metadata": {},
     "output_type": "execute_result"
    }
   ],
   "source": [
    "#로그변환(데이터가 정규성을 만족하지 않기 때문에 로그변환을 한다.)\n",
    "csv_month_2019['총승하차수']\n",
    "csv_month_2019[\"Log_col\"] = np.log1p(csv_month_2019['총승하차수'])\n",
    "csv_month_2019\n"
   ]
  },
  {
   "cell_type": "code",
   "execution_count": 14,
   "metadata": {},
   "outputs": [
    {
     "data": {
      "text/plain": [
       "((array([-3.54300659, -3.30192687, -3.16875235, ...,  3.16875235,\n",
       "          3.30192687,  3.54300659]),\n",
       "  array([10.53770711, 10.60400749, 10.65796499, ..., 15.72030224,\n",
       "         15.72653685, 15.73132064])),\n",
       " (0.9066107497294623, 13.597733762554821, 0.9958359576129542))"
      ]
     },
     "execution_count": 14,
     "metadata": {},
     "output_type": "execute_result"
    },
    {
     "data": {
      "image/png": "[encoded data removed]",
      "text/plain": [
       "<Figure size 432x288 with 1 Axes>"
      ]
     },
     "metadata": {
      "needs_background": "light"
     },
     "output_type": "display_data"
    }
   ],
   "source": [
    "import scipy.stats as stats\n",
    "stats.probplot(csv_month_2019['Log_col'], plot=plt)"
   ]
  },
  {
   "cell_type": "code",
   "execution_count": 17,
   "metadata": {},
   "outputs": [
    {
     "name": "stderr",
     "output_type": "stream",
     "text": [
      "<ipython-input-17-0552645cc91f>:2: SettingWithCopyWarning: \n",
      "A value is trying to be set on a copy of a slice from a DataFrame.\n",
      "Try using .loc[row_indexer,col_indexer] = value instead\n",
      "\n",
      "See the caveats in the documentation: https://pandas.pydata.org/pandas-docs/stable/user_guide/indexing.html#returning-a-view-versus-a-copy\n",
      "  csv_month_2020[\"Log_col\"] = np.log1p(csv_month_2020['총승하차수.1'])\n"
     ]
    },
    {
     "data": {
      "text/html": [
       "<div>\n",
       "<style scoped>\n",
       "    .dataframe tbody tr th:only-of-type {\n",
       "        vertical-align: middle;\n",
       "    }\n",
       "\n",
       "    .dataframe tbody tr th {\n",
       "        vertical-align: top;\n",
       "    }\n",
       "\n",
       "    .dataframe thead th {\n",
       "        text-align: right;\n",
       "    }\n",
       "</style>\n",
       "<table border=\"1\" class=\"dataframe\">\n",
       "  <thead>\n",
       "    <tr style=\"text-align: right;\">\n",
       "      <th></th>\n",
       "      <th>날짜.1</th>\n",
       "      <th>총승하차수.1</th>\n",
       "      <th>Log_col</th>\n",
       "    </tr>\n",
       "  </thead>\n",
       "  <tbody>\n",
       "    <tr>\n",
       "      <th>0</th>\n",
       "      <td>202001</td>\n",
       "      <td>153413</td>\n",
       "      <td>11.940895</td>\n",
       "    </tr>\n",
       "    <tr>\n",
       "      <th>1</th>\n",
       "      <td>202001</td>\n",
       "      <td>1084618</td>\n",
       "      <td>13.896739</td>\n",
       "    </tr>\n",
       "    <tr>\n",
       "      <th>2</th>\n",
       "      <td>202001</td>\n",
       "      <td>3344246</td>\n",
       "      <td>15.022752</td>\n",
       "    </tr>\n",
       "    <tr>\n",
       "      <th>3</th>\n",
       "      <td>202001</td>\n",
       "      <td>1175949</td>\n",
       "      <td>13.977587</td>\n",
       "    </tr>\n",
       "    <tr>\n",
       "      <th>4</th>\n",
       "      <td>202001</td>\n",
       "      <td>231311</td>\n",
       "      <td>12.351523</td>\n",
       "    </tr>\n",
       "    <tr>\n",
       "      <th>...</th>\n",
       "      <td>...</td>\n",
       "      <td>...</td>\n",
       "      <td>...</td>\n",
       "    </tr>\n",
       "    <tr>\n",
       "      <th>3499</th>\n",
       "      <td>202012</td>\n",
       "      <td>428247</td>\n",
       "      <td>12.967458</td>\n",
       "    </tr>\n",
       "    <tr>\n",
       "      <th>3500</th>\n",
       "      <td>202012</td>\n",
       "      <td>1001485</td>\n",
       "      <td>13.816995</td>\n",
       "    </tr>\n",
       "    <tr>\n",
       "      <th>3501</th>\n",
       "      <td>202012</td>\n",
       "      <td>991103</td>\n",
       "      <td>13.806575</td>\n",
       "    </tr>\n",
       "    <tr>\n",
       "      <th>3502</th>\n",
       "      <td>202012</td>\n",
       "      <td>420788</td>\n",
       "      <td>12.949887</td>\n",
       "    </tr>\n",
       "    <tr>\n",
       "      <th>3503</th>\n",
       "      <td>202012</td>\n",
       "      <td>338158</td>\n",
       "      <td>12.731271</td>\n",
       "    </tr>\n",
       "  </tbody>\n",
       "</table>\n",
       "<p>3504 rows × 3 columns</p>\n",
       "</div>"
      ],
      "text/plain": [
       "        날짜.1  총승하차수.1    Log_col\n",
       "0     202001   153413  11.940895\n",
       "1     202001  1084618  13.896739\n",
       "2     202001  3344246  15.022752\n",
       "3     202001  1175949  13.977587\n",
       "4     202001   231311  12.351523\n",
       "...      ...      ...        ...\n",
       "3499  202012   428247  12.967458\n",
       "3500  202012  1001485  13.816995\n",
       "3501  202012   991103  13.806575\n",
       "3502  202012   420788  12.949887\n",
       "3503  202012   338158  12.731271\n",
       "\n",
       "[3504 rows x 3 columns]"
      ]
     },
     "execution_count": 17,
     "metadata": {},
     "output_type": "execute_result"
    }
   ],
   "source": [
    "csv_month_2020['총승하차수.1']\n",
    "csv_month_2020[\"Log_col\"] = np.log1p(csv_month_2020['총승하차수.1'])\n",
    "csv_month_2020\n"
   ]
  },
  {
   "cell_type": "code",
   "execution_count": 18,
   "metadata": {},
   "outputs": [
    {
     "data": {
      "text/plain": [
       "((array([-3.54300659, -3.30192687, -3.16875235, ...,  3.16875235,\n",
       "          3.30192687,  3.54300659]),\n",
       "  array([10.40098475, 10.51124023, 10.58073398, ..., 15.54509298,\n",
       "         15.58029135, 15.60353807])),\n",
       " (0.8844640933577228, 13.295654238996008, 0.9956146031497825))"
      ]
     },
     "execution_count": 18,
     "metadata": {},
     "output_type": "execute_result"
    },
    {
     "data": {
      "image/png": "[encoded data removed]",
      "text/plain": [
       "<Figure size 432x288 with 1 Axes>"
      ]
     },
     "metadata": {
      "needs_background": "light"
     },
     "output_type": "display_data"
    }
   ],
   "source": [
    "stats.probplot(csv_month_2020['Log_col'], plot=plt)"
   ]
  },
  {
   "cell_type": "code",
   "execution_count": 19,
   "metadata": {},
   "outputs": [],
   "source": [
    "result_log = csv_month_2020['Log_col'] - csv_month_2019['Log_col']"
   ]
  },
  {
   "cell_type": "code",
   "execution_count": 20,
   "metadata": {},
   "outputs": [
    {
     "data": {
      "text/plain": [
       "-89.34665901073367"
      ]
     },
     "execution_count": 20,
     "metadata": {},
     "output_type": "execute_result"
    }
   ],
   "source": [
    "t = result_log.mean()/(result_log.std()/3504**0.5) # t값\n",
    "t"
   ]
  },
  {
   "cell_type": "code",
   "execution_count": 21,
   "metadata": {},
   "outputs": [
    {
     "data": {
      "text/plain": [
       "Ttest_1sampResult(statistic=-89.34665901073363, pvalue=0.0)"
      ]
     },
     "execution_count": 21,
     "metadata": {},
     "output_type": "execute_result"
    }
   ],
   "source": [
    "from scipy.stats import ttest_1samp\n",
    "ttest_1samp(result_log, 0)\n",
    "# 교통량의 변화에 차이가 있다.(귀무가설 기각)"
   ]
  },
  {
   "cell_type": "code",
   "execution_count": 17,
   "metadata": {},
   "outputs": [
    {
     "name": "stdout",
     "output_type": "stream",
     "text": [
      "27.502686160738765 %\n"
     ]
    }
   ],
   "source": [
    "# 교통량 감소 비율\n",
    "a = csv_month_2019['총승하차수'].sum()\n",
    "b = csv_month_2020['총승하차수.1'].sum()\n",
    "print((1-b/a)*100, \"%\") "
   ]
  },
  {
   "cell_type": "code",
   "execution_count": null,
   "metadata": {},
   "outputs": [],
   "source": []
  },
  {
   "cell_type": "code",
   "execution_count": null,
   "metadata": {},
   "outputs": [],
   "source": []
  },
  {
   "cell_type": "code",
   "execution_count": null,
   "metadata": {},
   "outputs": [],
   "source": []
  },
  {
   "cell_type": "code",
   "execution_count": null,
   "metadata": {},
   "outputs": [],
   "source": []
  },
  {
   "cell_type": "code",
   "execution_count": null,
   "metadata": {},
   "outputs": [],
   "source": []
  },
  {
   "cell_type": "code",
   "execution_count": null,
   "metadata": {},
   "outputs": [],
   "source": []
  },
  {
   "cell_type": "code",
   "execution_count": null,
   "metadata": {},
   "outputs": [],
   "source": []
  },
  {
   "cell_type": "code",
   "execution_count": null,
   "metadata": {},
   "outputs": [],
   "source": []
  },
  {
   "cell_type": "code",
   "execution_count": null,
   "metadata": {},
   "outputs": [],
   "source": []
  },
  {
   "cell_type": "code",
   "execution_count": null,
   "metadata": {},
   "outputs": [],
   "source": []
  },
  {
   "cell_type": "code",
   "execution_count": null,
   "metadata": {},
   "outputs": [],
   "source": []
  },
  {
   "cell_type": "code",
   "execution_count": null,
   "metadata": {},
   "outputs": [],
   "source": []
  },
  {
   "cell_type": "code",
   "execution_count": null,
   "metadata": {},
   "outputs": [],
   "source": []
  },
  {
   "cell_type": "code",
   "execution_count": null,
   "metadata": {},
   "outputs": [],
   "source": []
  }
 ],
 "metadata": {
  "kernelspec": {
   "display_name": "Python 3",
   "language": "python",
   "name": "python3"
  },
  "language_info": {
   "codemirror_mode": {
    "name": "ipython",
    "version": 3
   },
   "file_extension": ".py",
   "mimetype": "text/x-python",
   "name": "python",
   "nbconvert_exporter": "python",
   "pygments_lexer": "ipython3",
   "version": "3.8.5"
  }
 },
 "nbformat": 4,
 "nbformat_minor": 4
}
